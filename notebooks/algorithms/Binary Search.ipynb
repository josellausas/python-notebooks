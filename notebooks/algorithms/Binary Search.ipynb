{
 "cells": [
  {
   "cell_type": "code",
   "execution_count": 33,
   "metadata": {},
   "outputs": [
    {
     "name": "stdout",
     "output_type": "stream",
     "text": [
      "True\n",
      "1\n",
      "2\n",
      "3\n",
      "4\n",
      "5\n",
      "6\n",
      "7\n",
      "8\n",
      "9\n",
      "X10\n",
      "X11\n",
      "X33\n",
      "X55\n",
      "X77\n",
      "X99\n",
      "X120\n",
      "X433\n",
      "X676\n",
      "X999\n"
     ]
    }
   ],
   "source": [
    "import math\n",
    "# Given a sorted array, find the left or right\n",
    "laLista = [1,2,3,4,5,6,7,8,9,10,11,33,55,77,99,120,433,676,999]\n",
    "\n",
    "if 4 in laLista:\n",
    "    print(\"True\")\n",
    "else:\n",
    "    print(\"false\")\n",
    "mid = math.floor( len(laLista) / 2)\n",
    "\n",
    "def binarySearch2(item, l):\n",
    "    start = 0\n",
    "    end = len(laLista) -1\n",
    "    mid = math.floor( (end-start) / 2)\n",
    "    print(mid)\n",
    "    if laLista[mid] == item:\n",
    "        return True\n",
    "    if start == end:\n",
    "        return False\n",
    "    elif laLista[mid] > item:\n",
    "        return binarySearch(item, l[:mid-1])\n",
    "    else:\n",
    "        # Loof right of mid\n",
    "        return binarySearch(item, l[mid:])\n",
    "    \n",
    "\n",
    "#x = binarySearch(4, laLista)\n",
    "left = laLista[:mid]\n",
    "right = laLista[mid:]\n",
    "\n",
    "for x in left:\n",
    "    print(x)\n",
    "    \n",
    "for x in right:\n",
    "    print('X' + str(x))"
   ]
  },
  {
   "cell_type": "code",
   "execution_count": 34,
   "metadata": {},
   "outputs": [],
   "source": [
    "def binarySearch(l, item, verbose=False):\n",
    "    def p(msg):\n",
    "        if verbose:\n",
    "            print(msg)\n",
    "    # Return index at which the item is first found\n",
    "    #p(f\"Starting to search for {item}\")\n",
    "    start = 0\n",
    "    end = len(l)-1\n",
    "    p(f\"Start Index: {start}, end index: {end}\")\n",
    "\n",
    "    while start <= end:\n",
    "        mid = math.floor((start + end) / 2)\n",
    "        if l[mid] == item:\n",
    "            print(f\"Found {item}! at index {mid}\")\n",
    "            return mid\n",
    "        elif laLista[mid] > item:\n",
    "            # Look left\n",
    "\n",
    "            end = mid -1\n",
    "        else:\n",
    "            # Look right\n",
    "            start = mid + 1\n",
    "            \n",
    "    p(\"None found!\")\n",
    "    return None"
   ]
  },
  {
   "cell_type": "code",
   "execution_count": 35,
   "metadata": {},
   "outputs": [
    {
     "name": "stdout",
     "output_type": "stream",
     "text": [
      "Start Index: 0, end index: 6\n",
      "Found 1! at index 0\n"
     ]
    },
    {
     "data": {
      "text/plain": [
       "0"
      ]
     },
     "execution_count": 35,
     "metadata": {},
     "output_type": "execute_result"
    }
   ],
   "source": [
    "binarySearch([1,2,2,3,4,1000,999999999], 1, True)"
   ]
  },
  {
   "cell_type": "code",
   "execution_count": 38,
   "metadata": {},
   "outputs": [],
   "source": [
    "\n",
    "\n",
    "# This is an internal data structure\n",
    "class TreeNode():\n",
    "    left = None\n",
    "    right = None\n",
    "    def __init__(self, value):\n",
    "        self.value = value\n",
    "        \n",
    "    def insert(self, value):\n",
    "        if value <= self.value:\n",
    "            if self.left is None:\n",
    "                self.left = TreeNode(value)\n",
    "            else:\n",
    "                self.left.insert(value)\n",
    "        else:\n",
    "            if self.right is None:\n",
    "                self.right = TreeNode(value)\n",
    "            else:\n",
    "                self.right.insert(value)\n",
    "                \n",
    "    def find(self, value):\n",
    "        if value == self.value:\n",
    "            return self\n",
    "        elif (value < self.value) and (self.left is not None):\n",
    "            return self.left.find(value)\n",
    "        elif (value > self.value) and (self.right is not None):\n",
    "            return self.right.find(value)\n",
    "\n",
    "        return None\n",
    "        \n",
    "\n",
    "\n",
    "# This class is exposed to the User\n",
    "class BinarySearchTree():\n",
    "    def __init__(self):\n",
    "        self.head = None\n",
    "        self.size = 0\n",
    "    \n",
    "    def insert(self, data):\n",
    "        if self.head is None:\n",
    "            self.head = TreeNode(data)\n",
    "        else:\n",
    "            self.head.insert(data)\n",
    "        self.size += 1\n",
    "        \n",
    "    def find(self, value):\n",
    "        if self.head:\n",
    "            return self.head.find(value)\n",
    "        return None\n",
    "    "
   ]
  },
  {
   "cell_type": "code",
   "execution_count": 39,
   "metadata": {},
   "outputs": [
    {
     "name": "stdout",
     "output_type": "stream",
     "text": [
      "6\n"
     ]
    }
   ],
   "source": [
    "c = BinarySearchTree()\n",
    "c.insert(4)\n",
    "c.insert(5)\n",
    "c.insert(6)\n",
    "print(c.find(6).value)"
   ]
  },
  {
   "cell_type": "code",
   "execution_count": 40,
   "metadata": {},
   "outputs": [],
   "source": [
    "# An Algorithm Abstract Base Class\n",
    "class Algorithm():\n",
    "    def __init__(self, name):\n",
    "        self.name = name\n",
    "        \n",
    "    def print(self):\n",
    "        print(self.name)\n",
    "        \n",
    "    def input(argTable):\n",
    "        pass\n",
    "\n",
    "\n",
    "class BinarySearch(Algorithm):\n",
    "    def __init__(self, name):\n",
    "        super().__init__(name)\n",
    "    \n",
    "    def search(self, item, data):\n",
    "        start = 0\n",
    "        end = len(data)-1\n",
    "        mid = None\n",
    "        \n",
    "        while(start <= end):\n",
    "            mid = math.floor((start+end) * 0.5)\n",
    "            if item == data[mid]:\n",
    "                return mid\n",
    "            elif item < data[mid]:\n",
    "                end = mid-1\n",
    "            elif item > data[mid]:\n",
    "                start = mid+1\n",
    "               \n",
    "        return None\n",
    "        \n",
    "    "
   ]
  },
  {
   "cell_type": "code",
   "execution_count": 41,
   "metadata": {},
   "outputs": [
    {
     "data": {
      "text/plain": [
       "14"
      ]
     },
     "execution_count": 41,
     "metadata": {},
     "output_type": "execute_result"
    }
   ],
   "source": [
    "bs = BinarySearch(\"BinSearch\")\n",
    "bs.search(1, [0,0,0,0,0,0,0,0,0,0,0,0,0,0,1])"
   ]
  },
  {
   "cell_type": "code",
   "execution_count": 42,
   "metadata": {},
   "outputs": [],
   "source": [
    "class Board():\n",
    "    def __init__(self, data=[' ',' ',' ',' ',' ',' ',' ',' ',' ']):\n",
    "        if (len(data) != 9):\n",
    "            print(\"Bad length\")\n",
    "        self.data = data\n",
    "        \n",
    "    def print(self):\n",
    "        print(f\" {self.data[0]} | {self.data[1]} | {self.data[2]} \")\n",
    "        print(f\" {self.data[3]} | {self.data[4]} | {self.data[5]} \")\n",
    "        print(f\" {self.data[6]} | {self.data[7]} | {self.data[8]} \")\n",
    "        \n",
    "    def isWon(self):\n",
    "        if not self.data == [' ',' ',' ',' ',' ',' ',' ',' ',' ']:\n",
    "            colA = (self.data[0] == self.data[3] == self.data[6])\n",
    "            colB = (self.data[1] == self.data[4] == self.data[7])\n",
    "            colC = (self.data[2] == self.data[5] == self.data[8])\n",
    "            rowA = (self.data[0] == self.data[1] == self.data[2])\n",
    "            rowB = (self.data[3] == self.data[4] == self.data[5])\n",
    "            rowC = (self.data[6] == self.data[7] == self.data[8])\n",
    "            crossL = (self.data[0] == self.data[4] == self.data[8])\n",
    "            crossR = (self.data[6] == self.data[4] == self.data[2])\n",
    "            return ( colA or colB or colC or rowA or rowB or rowC or crossL or crossR ) \n",
    "        return False\n",
    "    "
   ]
  },
  {
   "cell_type": "code",
   "execution_count": 43,
   "metadata": {},
   "outputs": [
    {
     "name": "stdout",
     "output_type": "stream",
     "text": [
      " X |   | O \n",
      " X | O |   \n",
      " X |   |   \n"
     ]
    },
    {
     "data": {
      "text/plain": [
       "True"
      ]
     },
     "execution_count": 43,
     "metadata": {},
     "output_type": "execute_result"
    }
   ],
   "source": [
    "b1 = Board(['X',' ','O','X','O',' ','X',' ',' '])\n",
    "b1.print()\n",
    "b1.isWon()"
   ]
  },
  {
   "cell_type": "code",
   "execution_count": 44,
   "metadata": {},
   "outputs": [
    {
     "name": "stdout",
     "output_type": "stream",
     "text": [
      " X |   | O \n",
      " O | X |   \n",
      " O |   | X \n"
     ]
    },
    {
     "data": {
      "text/plain": [
       "True"
      ]
     },
     "execution_count": 44,
     "metadata": {},
     "output_type": "execute_result"
    }
   ],
   "source": [
    "b2 = Board(['X',' ','O','O','X',' ','O',' ','X'])\n",
    "b2.print()\n",
    "b2.isWon()"
   ]
  },
  {
   "cell_type": "code",
   "execution_count": 45,
   "metadata": {},
   "outputs": [
    {
     "name": "stdout",
     "output_type": "stream",
     "text": [
      "   |   |   \n",
      "   |   |   \n",
      "   |   |   \n"
     ]
    }
   ],
   "source": [
    "b3 = Board()\n",
    "b3.print()"
   ]
  },
  {
   "cell_type": "code",
   "execution_count": 46,
   "metadata": {},
   "outputs": [
    {
     "data": {
      "text/plain": [
       "False"
      ]
     },
     "execution_count": 46,
     "metadata": {},
     "output_type": "execute_result"
    }
   ],
   "source": [
    "b3.isWon()"
   ]
  },
  {
   "cell_type": "code",
   "execution_count": 47,
   "metadata": {},
   "outputs": [],
   "source": [
    "b1 = Board(['X',' ','O','O','O',' ','X',' ',' '])"
   ]
  },
  {
   "cell_type": "code",
   "execution_count": 48,
   "metadata": {},
   "outputs": [
    {
     "name": "stdout",
     "output_type": "stream",
     "text": [
      " X |   | O \n",
      " O | O |   \n",
      " X |   |   \n"
     ]
    }
   ],
   "source": [
    "b1.print()"
   ]
  },
  {
   "cell_type": "code",
   "execution_count": 49,
   "metadata": {},
   "outputs": [
    {
     "data": {
      "text/plain": [
       "False"
      ]
     },
     "execution_count": 49,
     "metadata": {},
     "output_type": "execute_result"
    }
   ],
   "source": [
    "b1.isWon()"
   ]
  },
  {
   "cell_type": "code",
   "execution_count": null,
   "metadata": {},
   "outputs": [],
   "source": []
  }
 ],
 "metadata": {
  "kernelspec": {
   "display_name": "Python 3",
   "language": "python",
   "name": "python3"
  },
  "language_info": {
   "codemirror_mode": {
    "name": "ipython",
    "version": 3
   },
   "file_extension": ".py",
   "mimetype": "text/x-python",
   "name": "python",
   "nbconvert_exporter": "python",
   "pygments_lexer": "ipython3",
   "version": "3.8.3"
  }
 },
 "nbformat": 4,
 "nbformat_minor": 4
}
